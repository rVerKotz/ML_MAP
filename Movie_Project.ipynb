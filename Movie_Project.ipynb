{
 "cells": [
  {
   "cell_type": "code",
   "execution_count": 1,
   "id": "6011b46c",
   "metadata": {},
   "outputs": [],
   "source": [
    "import pandas as pd\n",
    "from thefuzz import process\n",
    "\n",
    "def merging_dataset():\n",
    "    results_with_crew = pd.read_csv(\"results_with_crew.csv\")\n",
    "    imdb_movies = pd.read_csv(\"imdb_movies.csv\")\n",
    "\n",
    "    imdb_titles = imdb_movies['names'].dropna().unique().tolist()\n",
    "\n",
    "    matches = results_with_crew['primaryTitle'].apply(\n",
    "        lambda x: process.extractOne(x, imdb_titles, score_cutoff=80)\n",
    "    )\n",
    "\n",
    "    results_with_crew['matched_name'] = matches.apply(lambda x: x[0] if x else None)\n",
    "    results_with_crew['match_score'] = matches.apply(lambda x: x[1] if x else None)\n",
    "\n",
    "    merged = results_with_crew.merge(imdb_movies, left_on='matched_name', right_on='names', how='left')\n",
    "\n",
    "    merged.to_csv(\"merged_results.csv\", index=False)"
   ]
  },
  {
   "cell_type": "code",
   "execution_count": 2,
   "id": "2bad412e",
   "metadata": {},
   "outputs": [],
   "source": [
    "df =  pd.read_csv('merged_results.csv')"
   ]
  },
  {
   "cell_type": "code",
   "execution_count": 3,
   "id": "035b1cfc",
   "metadata": {},
   "outputs": [],
   "source": [
    "import http.client\n",
    "import json\n",
    "from urllib.parse import quote\n",
    "\n",
    "def add_new_movie(movie_id, current_df):\n",
    "    conn = http.client.HTTPSConnection(\"imdb236.p.rapidapi.com\")\n",
    "    headers = {\n",
    "        'x-rapidapi-key': \"74af810398msh57ffd38221bc0b0p1d3666jsnc105598ca135\",\n",
    "        'x-rapidapi-host': \"imdb236.p.rapidapi.com\"\n",
    "    }\n",
    "    \n",
    "    conn.request(\"GET\", f\"/api/imdb/{quote(movie_id)}\", headers=headers)\n",
    "    res = conn.getresponse()\n",
    "    data = res.read()\n",
    "    response_data = json.loads(data.decode(\"utf-8\"))\n",
    "\n",
    "    if 'error' in response_data:\n",
    "        print(f\"Error from API: {response_data.get('error')}\")\n",
    "        print(f\"Could not find movie with ID: {movie_id}. DataFrame not changed.\")\n",
    "        return current_df\n",
    "\n",
    "    new_df = pd.json_normalize(response_data)\n",
    "    print(\"Movie found, adding to DataFrame...\")\n",
    "    \n",
    "    updated_df = pd.concat([current_df, new_df.rename(columns={'id': 'tconst', 'url': 'IMDbLink'})], ignore_index=True)\n",
    "    return updated_df\n"
   ]
  },
  {
   "cell_type": "code",
   "execution_count": 4,
   "id": "deea2302",
   "metadata": {},
   "outputs": [
    {
     "name": "stdout",
     "output_type": "stream",
     "text": [
      "Movie 'The Matrix' already exists in the DataFrame.\n"
     ]
    }
   ],
   "source": [
    "mov_id = input(\"Enter your movie ID (e.g., tt0133093): \")\n",
    "searched = df[df['tconst'] == mov_id]\n",
    "if searched.empty:\n",
    "    print(f\"Movie with ID {mov_id} not found in DataFrame. Adding it now...\")\n",
    "    df = add_new_movie(mov_id, df)\n",
    "    movie_title_string = searched['primaryTitle'].iloc[0]\n",
    "else:\n",
    "    movie_title_string = searched['primaryTitle'].iloc[0]\n",
    "    print(f\"Movie '{movie_title_string}' already exists in the DataFrame.\")"
   ]
  },
  {
   "cell_type": "code",
   "execution_count": 5,
   "id": "3f50e415",
   "metadata": {},
   "outputs": [],
   "source": [
    "from sklearn.feature_extraction.text import TfidfVectorizer\n",
    "from sklearn.metrics.pairwise import cosine_similarity\n",
    "\n",
    "df['genres'] = df['genres'].fillna('')\n",
    "df['directors'] = df['directors'].fillna('')\n",
    "df['writers'] = df['writers'].fillna('')"
   ]
  },
  {
   "cell_type": "code",
   "execution_count": 6,
   "id": "1fab351a",
   "metadata": {},
   "outputs": [],
   "source": [
    "def clean_names(x):\n",
    "    if isinstance(x, list):\n",
    "        return [str.lower(i.replace(\" \", \"\")) for i in x]\n",
    "    else:\n",
    "        if isinstance(x, str):\n",
    "            return [str.lower(i.replace(\" \", \"\")) for i in x.split(',')]\n",
    "        else:\n",
    "            return []"
   ]
  },
  {
   "cell_type": "code",
   "execution_count": 7,
   "id": "fbed1414",
   "metadata": {},
   "outputs": [],
   "source": [
    "df['directors_clean'] = df['directors'].astype(str).apply(clean_names)\n",
    "df['writers_clean'] = df['writers'].astype(str).apply(clean_names)\n",
    "df['genres_clean'] = df['genres'].astype(str).apply(lambda x: [str.lower(i.replace(\" \", \"\")) for i in x.split(',')])\n",
    "\n",
    "def create_soup(x):\n",
    "    return ' '.join(x['writers_clean']) + ' ' + ' '.join(x['directors_clean']) + ' ' + ' '.join(x['genres_clean'])\n",
    "\n",
    "df['features_soup'] = df.apply(create_soup, axis=1)"
   ]
  },
  {
   "cell_type": "code",
   "execution_count": 8,
   "id": "4af695bd",
   "metadata": {},
   "outputs": [
    {
     "name": "stdout",
     "output_type": "stream",
     "text": [
      "Shape of TF-IDF Matrix:\n",
      "(5787, 8415)\n"
     ]
    }
   ],
   "source": [
    "tfidf = TfidfVectorizer(stop_words='english')\n",
    "tfidf_matrix = tfidf.fit_transform(df['features_soup'])\n",
    "print(\"Shape of TF-IDF Matrix:\")\n",
    "print(tfidf_matrix.shape)"
   ]
  },
  {
   "cell_type": "code",
   "execution_count": 9,
   "id": "3e6bd27e",
   "metadata": {},
   "outputs": [
    {
     "name": "stdout",
     "output_type": "stream",
     "text": [
      "Shape of Cosine Similarity Matrix:\n",
      "(5787, 5787)\n"
     ]
    }
   ],
   "source": [
    "cosine_sim = cosine_similarity(tfidf_matrix, tfidf_matrix)\n",
    "print(\"Shape of Cosine Similarity Matrix:\")\n",
    "print(cosine_sim.shape)"
   ]
  },
  {
   "cell_type": "code",
   "execution_count": 10,
   "id": "cdd85606",
   "metadata": {},
   "outputs": [],
   "source": [
    "indices = pd.Series(df.index, index=df['primaryTitle']).drop_duplicates()\n",
    "\n",
    "def get_recommendations(title, cosine_sim=cosine_sim, data=df):\n",
    "    if title not in indices:\n",
    "        return f\"Error: Movie '{title}' not found in the dataset.\"\n",
    "    \n",
    "    idx = indices[title]\n",
    "    indices_series = indices[title]\n",
    "    if isinstance(indices_series, pd.Series):\n",
    "        idx = indices_series.iloc[0]\n",
    "    else:\n",
    "        idx = indices_series\n",
    "    sim_scores = list(enumerate(cosine_sim[idx]))\n",
    "    sim_scores = sorted(sim_scores, key=lambda x: x[1], reverse=True)\n",
    "    sim_scores = sim_scores[1:11]\n",
    "    movie_indices = [i[0] for i in sim_scores]\n",
    "    return data['primaryTitle'].iloc[movie_indices]"
   ]
  },
  {
   "cell_type": "code",
   "execution_count": 11,
   "id": "71b8be6f",
   "metadata": {},
   "outputs": [
    {
     "name": "stdout",
     "output_type": "stream",
     "text": [
      "Recommendations for 'The Matrix':\n",
      "2488              The Matrix Reloaded\n",
      "4720           The Matrix Revolutions\n",
      "2218                            Bound\n",
      "1598                      Cloud Atlas\n",
      "166                    V for Vendetta\n",
      "3329                      Cloverfield\n",
      "117                     Jurassic Park\n",
      "5170    The Lost World: Jurassic Park\n",
      "4627                       Rollerball\n",
      "4628                       Rollerball\n",
      "Name: primaryTitle, dtype: object\n"
     ]
    }
   ],
   "source": [
    "print(f\"Recommendations for '{movie_title_string}':\")\n",
    "print(get_recommendations(movie_title_string))"
   ]
  }
 ],
 "metadata": {
  "kernelspec": {
   "display_name": "Python 3",
   "language": "python",
   "name": "python3"
  },
  "language_info": {
   "codemirror_mode": {
    "name": "ipython",
    "version": 3
   },
   "file_extension": ".py",
   "mimetype": "text/x-python",
   "name": "python",
   "nbconvert_exporter": "python",
   "pygments_lexer": "ipython3",
   "version": "3.11.9"
  }
 },
 "nbformat": 4,
 "nbformat_minor": 5
}
