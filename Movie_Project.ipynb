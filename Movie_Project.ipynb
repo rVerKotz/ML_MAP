{
 "cells": [
  {
   "cell_type": "code",
   "execution_count": 140,
   "id": "7c390c30",
   "metadata": {},
   "outputs": [],
   "source": [
    "import pandas as pd\n",
    "df = pd.read_csv('results_with_crew.csv')"
   ]
  },
  {
   "cell_type": "code",
   "execution_count": null,
   "id": "035b1cfc",
   "metadata": {},
   "outputs": [],
   "source": [
    "import http.client\n",
    "import json\n",
    "from urllib.parse import quote\n",
    "\n",
    "def add_new_movie(movie_id, current_df):\n",
    "    conn = http.client.HTTPSConnection(\"imdb236.p.rapidapi.com\")\n",
    "    headers = {\n",
    "        'x-rapidapi-key': \"74af810398msh57ffd38221bc0b0p1d3666jsnc105598ca135\",\n",
    "        'x-rapidapi-host': \"imdb236.p.rapidapi.com\"\n",
    "    }\n",
    "    \n",
    "    conn.request(\"GET\", f\"/api/imdb/{quote(movie_id)}\", headers=headers)\n",
    "    res = conn.getresponse()\n",
    "    data = res.read()\n",
    "    response_data = json.loads(data.decode(\"utf-8\"))\n",
    "\n",
    "    if 'error' in response_data:\n",
    "        print(f\"Error from API: {response_data.get('error')}\")\n",
    "        print(f\"Could not find movie with ID: {movie_id}. DataFrame not changed.\")\n",
    "        return current_df\n",
    "\n",
    "    new_df = pd.json_normalize(response_data)\n",
    "    print(\"Movie found, adding to DataFrame...\")\n",
    "    \n",
    "    updated_df = pd.concat([current_df, new_df.rename(columns={'id': 'tconst', 'url': 'IMDbLink'})], ignore_index=True)\n",
    "    return updated_df\n"
   ]
  },
  {
   "cell_type": "code",
   "execution_count": null,
   "id": "deea2302",
   "metadata": {},
   "outputs": [
    {
     "name": "stdout",
     "output_type": "stream",
     "text": [
      "Movie found, adding to DataFrame...\n",
      "Movie 'Spider-Man: No Way Home' already exists in the DataFrame.\n",
      "\n",
      "DataFrame tail:\n",
      "          tconst             primaryTitle  startYear    rank  averageRating  numVotes  runtimeMinutes                                          directors                                            writers                        genres  ... countriesOfOrigin                            externalLinks spokenLanguages filmingLocations                                productionCompanies       budget grossWorldwide isAdult metascore                                               cast\n",
      "4996   tt0122718           Small Soldiers       1998  4997.0            6.3    109720             110                                          Joe Dante  Gavin Scott, Adam Rifkin, Ted Elliott, Terry R...     Action, Adventure, Comedy  ...               NaN                                      NaN             NaN              NaN                                                NaN          NaN            NaN     NaN       NaN                                                NaN\n",
      "4997   tt0090264         A View to a Kill       1985  4998.0            6.3    109600             131                                          John Glen    Richard Maibaum, Michael G. Wilson, Ian Fleming   Action, Adventure, Thriller  ...               NaN                                      NaN             NaN              NaN                                                NaN          NaN            NaN     NaN       NaN                                                NaN\n",
      "4998   tt2357291                    Rio 2       2014  4999.0            6.3    108076             101                                    Carlos Saldanha  Don Rhymer, Carlos Kotkin, Jenny Bicks, Yoni B...  Adventure, Animation, Comedy  ...               NaN                                      NaN             NaN              NaN                                                NaN          NaN            NaN     NaN       NaN                                                NaN\n",
      "4999   tt0365686                 Revolver       2005  5000.0            6.3    106966             111                                        Guy Ritchie                            Luc Besson, Guy Ritchie          Action, Crime, Drama  ...               NaN                                      NaN             NaN              NaN                                                NaN          NaN            NaN     NaN       NaN                                                NaN\n",
      "5000  tt10872600  Spider-Man: No Way Home       2021     NaN            8.2    976918             148  [{'id': 'nm1218281', 'url': 'https://www.imdb....  [{'id': 'nm0571344', 'url': 'https://www.imdb....  [Action, Adventure, Fantasy]  ...              [US]  [https://www.spidermannowayhome.movie/]        [en, tl]        [Iceland]  [{'id': 'co0050868', 'name': 'Columbia Picture...  200000000.0   1.921426e+09   False      71.0  [{'id': 'nm4043618', 'url': 'https://www.imdb....\n",
      "\n",
      "[5 rows x 32 columns]\n"
     ]
    }
   ],
   "source": [
    "mov_id = input(\"Enter your movie ID (e.g., tt0133093): \")\n",
    "df = add_new_movie(mov_id, df)\n",
    "\n",
    "searched = df[df['tconst'] == mov_id]\n",
    "if searched.empty:\n",
    "    print(f\"Movie with ID {mov_id} not found in DataFrame. Adding it now...\")\n",
    "    df = add_new_movie(mov_id, df)\n",
    "    movie_title_string = searched['primaryTitle'].iloc[0]\n",
    "else:\n",
    "    movie_title_string = searched['primaryTitle'].iloc[0]\n",
    "    print(f\"Movie '{movie_title_string}' already exists in the DataFrame.\")"
   ]
  },
  {
   "cell_type": "code",
   "execution_count": 143,
   "id": "3f50e415",
   "metadata": {},
   "outputs": [],
   "source": [
    "from sklearn.feature_extraction.text import TfidfVectorizer\n",
    "from sklearn.metrics.pairwise import cosine_similarity\n",
    "\n",
    "df['genres'] = df['genres'].fillna('')\n",
    "df['directors'] = df['directors'].fillna('')\n",
    "df['writers'] = df['writers'].fillna('')"
   ]
  },
  {
   "cell_type": "code",
   "execution_count": 144,
   "id": "1fab351a",
   "metadata": {},
   "outputs": [],
   "source": [
    "def clean_names(x):\n",
    "    if isinstance(x, list):\n",
    "        return [str.lower(i.replace(\" \", \"\")) for i in x]\n",
    "    else:\n",
    "        if isinstance(x, str):\n",
    "            return [str.lower(i.replace(\" \", \"\")) for i in x.split(',')]\n",
    "        else:\n",
    "            return []"
   ]
  },
  {
   "cell_type": "code",
   "execution_count": null,
   "id": "fbed1414",
   "metadata": {},
   "outputs": [
    {
     "name": "stdout",
     "output_type": "stream",
     "text": [
      "Feature Soup for first movie:\n",
      "0    stephenking frankdarabont frankdarabont drama\n",
      "Name: features_soup, dtype: object\n"
     ]
    }
   ],
   "source": [
    "df['directors_clean'] = df['directors'].astype(str).apply(clean_names)\n",
    "df['writers_clean'] = df['writers'].astype(str).apply(clean_names)\n",
    "df['genres_clean'] = df['genres'].astype(str).apply(lambda x: [str.lower(i.replace(\" \", \"\")) for i in x.split(',')])\n",
    "\n",
    "def create_soup(x):\n",
    "    return ' '.join(x['writers_clean']) + ' ' + ' '.join(x['directors_clean']) + ' ' + ' '.join(x['genres_clean'])\n",
    "\n",
    "df['features_soup'] = df.apply(create_soup, axis=1)"
   ]
  },
  {
   "cell_type": "code",
   "execution_count": 146,
   "id": "4af695bd",
   "metadata": {},
   "outputs": [
    {
     "name": "stdout",
     "output_type": "stream",
     "text": [
      "Shape of TF-IDF Matrix:\n",
      "(5001, 8427)\n"
     ]
    }
   ],
   "source": [
    "tfidf = TfidfVectorizer(stop_words='english')\n",
    "tfidf_matrix = tfidf.fit_transform(df['features_soup'])\n",
    "print(\"Shape of TF-IDF Matrix:\")\n",
    "print(tfidf_matrix.shape)"
   ]
  },
  {
   "cell_type": "code",
   "execution_count": 147,
   "id": "3e6bd27e",
   "metadata": {},
   "outputs": [
    {
     "name": "stdout",
     "output_type": "stream",
     "text": [
      "Shape of Cosine Similarity Matrix:\n",
      "(5001, 5001)\n"
     ]
    }
   ],
   "source": [
    "cosine_sim = cosine_similarity(tfidf_matrix, tfidf_matrix)\n",
    "print(\"Shape of Cosine Similarity Matrix:\")\n",
    "print(cosine_sim.shape)"
   ]
  },
  {
   "cell_type": "code",
   "execution_count": null,
   "id": "cdd85606",
   "metadata": {},
   "outputs": [],
   "source": [
    "indices = pd.Series(df.index, index=df['primaryTitle']).drop_duplicates()\n",
    "\n",
    "def get_recommendations(title, cosine_sim=cosine_sim, data=df):\n",
    "    if title not in indices:\n",
    "        return f\"Error: Movie '{title}' not found in the dataset.\"\n",
    "    \n",
    "    idx = indices[title]\n",
    "    indices_series = indices[title]\n",
    "    if isinstance(indices_series, pd.Series):\n",
    "        idx = indices_series.iloc[0]\n",
    "    else:\n",
    "        idx = indices_series\n",
    "    sim_scores = list(enumerate(cosine_sim[idx]))\n",
    "    sim_scores = sorted(sim_scores, key=lambda x: x[1], reverse=True)\n",
    "    sim_scores = sim_scores[1:11]\n",
    "    movie_indices = [i[0] for i in sim_scores]\n",
    "    return data['primaryTitle'].iloc[movie_indices]"
   ]
  },
  {
   "cell_type": "code",
   "execution_count": 149,
   "id": "71b8be6f",
   "metadata": {},
   "outputs": [
    {
     "name": "stdout",
     "output_type": "stream",
     "text": [
      "Recommendations for 'Spider-Man: No Way Home':\n",
      "1349                      Spider-Man: Far from Home\n",
      "1345                         Spider-Man: Homecoming\n",
      "3231    Doctor Strange in the Multiverse of Madness\n",
      "4611                                          Wolfs\n",
      "2851                           Ant-Man and the Wasp\n",
      "1343                                     Spider-Man\n",
      "4350                                        Cop Car\n",
      "1073                                 Doctor Strange\n",
      "2849                 Jumanji: Welcome to the Jungle\n",
      "3226                         The Amazing Spider-Man\n",
      "Name: primaryTitle, dtype: object\n"
     ]
    },
    {
     "name": "stderr",
     "output_type": "stream",
     "text": [
      "C:\\Users\\Savero Madajaya\\AppData\\Local\\Temp\\ipykernel_2372\\112805545.py:9: FutureWarning: Series.__getitem__ treating keys as positions is deprecated. In a future version, integer keys will always be treated as labels (consistent with DataFrame behavior). To access a value by position, use `ser.iloc[pos]`\n",
      "  idx = idx[0]\n"
     ]
    }
   ],
   "source": [
    "print(f\"Recommendations for '{movie_title_string}':\")\n",
    "print(get_recommendations(movie_title_string))"
   ]
  }
 ],
 "metadata": {
  "kernelspec": {
   "display_name": "Python 3",
   "language": "python",
   "name": "python3"
  },
  "language_info": {
   "codemirror_mode": {
    "name": "ipython",
    "version": 3
   },
   "file_extension": ".py",
   "mimetype": "text/x-python",
   "name": "python",
   "nbconvert_exporter": "python",
   "pygments_lexer": "ipython3",
   "version": "3.11.9"
  }
 },
 "nbformat": 4,
 "nbformat_minor": 5
}
