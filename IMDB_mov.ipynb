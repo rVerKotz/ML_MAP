{
 "cells": [
  {
   "cell_type": "code",
   "execution_count": 61,
   "id": "2b9c73b8",
   "metadata": {},
   "outputs": [],
   "source": [
    "import pandas as pd\n",
    "import numpy as np\n",
    "import matplotlib.pyplot as plt\n",
    "from sklearn.model_selection import train_test_split\n",
    "from sklearn.preprocessing import OneHotEncoder, StandardScaler\n",
    "from sklearn.compose import ColumnTransformer\n",
    "from sklearn.pipeline import Pipeline\n",
    "from sklearn.metrics import classification_report, confusion_matrix\n",
    "from lazypredict.Supervised import LazyClassifier\n"
   ]
  },
  {
   "cell_type": "code",
   "execution_count": 62,
   "id": "a1afb4c5",
   "metadata": {},
   "outputs": [
    {
     "name": "stdout",
     "output_type": "stream",
     "text": [
      "(10178, 12)\n"
     ]
    }
   ],
   "source": [
    "df = pd.read_csv(\"dataset/imdb_movies.csv\")\n",
    "print(df.shape)"
   ]
  },
  {
   "cell_type": "code",
   "execution_count": 63,
   "id": "573ec982",
   "metadata": {},
   "outputs": [
    {
     "data": {
      "application/vnd.microsoft.datawrangler.viewer.v0+json": {
       "columns": [
        {
         "name": "index",
         "rawType": "int64",
         "type": "integer"
        },
        {
         "name": "names",
         "rawType": "object",
         "type": "string"
        },
        {
         "name": "date_x",
         "rawType": "object",
         "type": "string"
        },
        {
         "name": "score",
         "rawType": "float64",
         "type": "float"
        },
        {
         "name": "genre",
         "rawType": "object",
         "type": "string"
        },
        {
         "name": "overview",
         "rawType": "object",
         "type": "string"
        },
        {
         "name": "crew",
         "rawType": "object",
         "type": "string"
        },
        {
         "name": "orig_title",
         "rawType": "object",
         "type": "string"
        },
        {
         "name": "status",
         "rawType": "object",
         "type": "string"
        },
        {
         "name": "orig_lang",
         "rawType": "object",
         "type": "string"
        },
        {
         "name": "budget_x",
         "rawType": "float64",
         "type": "float"
        },
        {
         "name": "revenue",
         "rawType": "float64",
         "type": "float"
        },
        {
         "name": "country",
         "rawType": "object",
         "type": "string"
        }
       ],
       "ref": "2465239e-5182-4ab6-a87a-ad24c32194cb",
       "rows": [
        [
         "0",
         "Creed III",
         "03/02/2023 ",
         "73.0",
         "Drama, Action",
         "After dominating the boxing world, Adonis Creed has been thriving in both his career and family life. When a childhood friend and former boxing prodigy, Damien Anderson, resurfaces after serving a long sentence in prison, he is eager to prove that he deserves his shot in the ring. The face-off between former friends is more than just a fight. To settle the score, Adonis must put his future on the line to battle Damien — a fighter who has nothing to lose.",
         "Michael B. Jordan, Adonis Creed, Tessa Thompson, Bianca Taylor, Jonathan Majors, Damien Anderson, Wood Harris, Tony 'Little Duke' Evers, Phylicia Rashād, Mary Anne Creed, Mila Davis-Kent, Amara Creed, Florian Munteanu, Viktor Drago, José Benavidez Jr., Felix Chavez, Selenis Leyva, Laura Chavez",
         "Creed III",
         " Released",
         " English",
         "75000000.0",
         "271616668.0",
         "AU"
        ],
        [
         "1",
         "Avatar: The Way of Water",
         "12/15/2022 ",
         "78.0",
         "Science Fiction, Adventure, Action",
         "Set more than a decade after the events of the first film, learn the story of the Sully family (Jake, Neytiri, and their kids), the trouble that follows them, the lengths they go to keep each other safe, the battles they fight to stay alive, and the tragedies they endure.",
         "Sam Worthington, Jake Sully, Zoe Saldaña, Neytiri, Sigourney Weaver, Kiri / Dr. Grace Augustine, Stephen Lang, Colonel Miles Quaritch, Kate Winslet, Ronal, Cliff Curtis, Tonowari, Joel David Moore, Norm Spellman, CCH Pounder, Mo'at, Edie Falco, General Frances Ardmore",
         "Avatar: The Way of Water",
         " Released",
         " English",
         "460000000.0",
         "2316794914.0",
         "AU"
        ],
        [
         "2",
         "The Super Mario Bros. Movie",
         "04/05/2023 ",
         "76.0",
         "Animation, Adventure, Family, Fantasy, Comedy",
         "While working underground to fix a water main, Brooklyn plumbers—and brothers—Mario and Luigi are transported down a mysterious pipe and wander into a magical new world. But when the brothers are separated, Mario embarks on an epic quest to find Luigi.",
         "Chris Pratt, Mario (voice), Anya Taylor-Joy, Princess Peach (voice), Charlie Day, Luigi (voice), Jack Black, Bowser (voice), Keegan-Michael Key, Toad (voice), Seth Rogen, Donkey Kong (voice), Fred Armisen, Cranky Kong (voice), Kevin Michael Richardson, Kamek (voice), Sebastian Maniscalco, Spike (voice)",
         "The Super Mario Bros. Movie",
         " Released",
         " English",
         "100000000.0",
         "724459031.0",
         "AU"
        ],
        [
         "3",
         "Mummies",
         "01/05/2023 ",
         "70.0",
         "Animation, Comedy, Family, Adventure, Fantasy",
         "Through a series of unfortunate events, three mummies end up in present-day London and embark on a wacky and hilarious journey in search of an old ring belonging to the Royal Family, stolen by ambitious archaeologist Lord Carnaby.",
         "Óscar Barberán, Thut (voice), Ana Esther Alborg, Nefer (voice), Luis Pérez Reina, Carnaby (voice), María Luisa Solá, Madre (voice), Jaume Solà, Sekhem (voice), José Luis Mediavilla, Ed (voice), José Javier Serrano Rodríguez, Danny (voice), Aleix Estadella, Dennis (voice), María Moscardó, Usi (voice)",
         " Momias",
         " Released",
         " Spanish, Castilian",
         "12300000.0",
         "34200000.0",
         "AU"
        ],
        [
         "4",
         "Supercell",
         "03/17/2023 ",
         "61.0",
         "Action",
         "Good-hearted teenager William always lived in hope of following in his late father’s footsteps and becoming a storm chaser. His father’s legacy has now been turned into a storm-chasing tourist business, managed by the greedy and reckless Zane Rogers, who is now using William as the main attraction to lead a group of unsuspecting adventurers deep into the eye of the most dangerous supercell ever seen.",
         "Skeet Ulrich, Roy Cameron, Anne Heche, Dr Quinn Brody, Daniel Diemer, William Brody, Jordan Kristine Seamón, Harper Hunter, Alec Baldwin, Zane Rogers, Richard Gunn, Bill Brody, Praya Lundberg, Amy, Johnny Wactor, Martin, Anjul Nigam, Ramesh",
         "Supercell",
         " Released",
         " English",
         "77000000.0",
         "340941958.6",
         "US"
        ]
       ],
       "shape": {
        "columns": 12,
        "rows": 5
       }
      },
      "text/html": [
       "<div>\n",
       "<style scoped>\n",
       "    .dataframe tbody tr th:only-of-type {\n",
       "        vertical-align: middle;\n",
       "    }\n",
       "\n",
       "    .dataframe tbody tr th {\n",
       "        vertical-align: top;\n",
       "    }\n",
       "\n",
       "    .dataframe thead th {\n",
       "        text-align: right;\n",
       "    }\n",
       "</style>\n",
       "<table border=\"1\" class=\"dataframe\">\n",
       "  <thead>\n",
       "    <tr style=\"text-align: right;\">\n",
       "      <th></th>\n",
       "      <th>names</th>\n",
       "      <th>date_x</th>\n",
       "      <th>score</th>\n",
       "      <th>genre</th>\n",
       "      <th>overview</th>\n",
       "      <th>crew</th>\n",
       "      <th>orig_title</th>\n",
       "      <th>status</th>\n",
       "      <th>orig_lang</th>\n",
       "      <th>budget_x</th>\n",
       "      <th>revenue</th>\n",
       "      <th>country</th>\n",
       "    </tr>\n",
       "  </thead>\n",
       "  <tbody>\n",
       "    <tr>\n",
       "      <th>0</th>\n",
       "      <td>Creed III</td>\n",
       "      <td>03/02/2023</td>\n",
       "      <td>73.00</td>\n",
       "      <td>Drama, Action</td>\n",
       "      <td>After dominating the boxing world, Adonis Cree...</td>\n",
       "      <td>Michael B. Jordan, Adonis Creed, Tessa Thompso...</td>\n",
       "      <td>Creed III</td>\n",
       "      <td>Released</td>\n",
       "      <td>English</td>\n",
       "      <td>75000000.00</td>\n",
       "      <td>271616668.00</td>\n",
       "      <td>AU</td>\n",
       "    </tr>\n",
       "    <tr>\n",
       "      <th>1</th>\n",
       "      <td>Avatar: The Way of Water</td>\n",
       "      <td>12/15/2022</td>\n",
       "      <td>78.00</td>\n",
       "      <td>Science Fiction, Adventure, Action</td>\n",
       "      <td>Set more than a decade after the events of the...</td>\n",
       "      <td>Sam Worthington, Jake Sully, Zoe Saldaña, Neyt...</td>\n",
       "      <td>Avatar: The Way of Water</td>\n",
       "      <td>Released</td>\n",
       "      <td>English</td>\n",
       "      <td>460000000.00</td>\n",
       "      <td>2316794914.00</td>\n",
       "      <td>AU</td>\n",
       "    </tr>\n",
       "    <tr>\n",
       "      <th>2</th>\n",
       "      <td>The Super Mario Bros. Movie</td>\n",
       "      <td>04/05/2023</td>\n",
       "      <td>76.00</td>\n",
       "      <td>Animation, Adventure, Family, Fantasy, Comedy</td>\n",
       "      <td>While working underground to fix a water main,...</td>\n",
       "      <td>Chris Pratt, Mario (voice), Anya Taylor-Joy, P...</td>\n",
       "      <td>The Super Mario Bros. Movie</td>\n",
       "      <td>Released</td>\n",
       "      <td>English</td>\n",
       "      <td>100000000.00</td>\n",
       "      <td>724459031.00</td>\n",
       "      <td>AU</td>\n",
       "    </tr>\n",
       "    <tr>\n",
       "      <th>3</th>\n",
       "      <td>Mummies</td>\n",
       "      <td>01/05/2023</td>\n",
       "      <td>70.00</td>\n",
       "      <td>Animation, Comedy, Family, Adventure, Fantasy</td>\n",
       "      <td>Through a series of unfortunate events, three ...</td>\n",
       "      <td>Óscar Barberán, Thut (voice), Ana Esther Albor...</td>\n",
       "      <td>Momias</td>\n",
       "      <td>Released</td>\n",
       "      <td>Spanish, Castilian</td>\n",
       "      <td>12300000.00</td>\n",
       "      <td>34200000.00</td>\n",
       "      <td>AU</td>\n",
       "    </tr>\n",
       "    <tr>\n",
       "      <th>4</th>\n",
       "      <td>Supercell</td>\n",
       "      <td>03/17/2023</td>\n",
       "      <td>61.00</td>\n",
       "      <td>Action</td>\n",
       "      <td>Good-hearted teenager William always lived in ...</td>\n",
       "      <td>Skeet Ulrich, Roy Cameron, Anne Heche, Dr Quin...</td>\n",
       "      <td>Supercell</td>\n",
       "      <td>Released</td>\n",
       "      <td>English</td>\n",
       "      <td>77000000.00</td>\n",
       "      <td>340941958.60</td>\n",
       "      <td>US</td>\n",
       "    </tr>\n",
       "  </tbody>\n",
       "</table>\n",
       "</div>"
      ],
      "text/plain": [
       "                         names       date_x  score  \\\n",
       "0                    Creed III  03/02/2023   73.00   \n",
       "1     Avatar: The Way of Water  12/15/2022   78.00   \n",
       "2  The Super Mario Bros. Movie  04/05/2023   76.00   \n",
       "3                      Mummies  01/05/2023   70.00   \n",
       "4                    Supercell  03/17/2023   61.00   \n",
       "\n",
       "                                           genre  \\\n",
       "0                                  Drama, Action   \n",
       "1             Science Fiction, Adventure, Action   \n",
       "2  Animation, Adventure, Family, Fantasy, Comedy   \n",
       "3  Animation, Comedy, Family, Adventure, Fantasy   \n",
       "4                                         Action   \n",
       "\n",
       "                                            overview  \\\n",
       "0  After dominating the boxing world, Adonis Cree...   \n",
       "1  Set more than a decade after the events of the...   \n",
       "2  While working underground to fix a water main,...   \n",
       "3  Through a series of unfortunate events, three ...   \n",
       "4  Good-hearted teenager William always lived in ...   \n",
       "\n",
       "                                                crew  \\\n",
       "0  Michael B. Jordan, Adonis Creed, Tessa Thompso...   \n",
       "1  Sam Worthington, Jake Sully, Zoe Saldaña, Neyt...   \n",
       "2  Chris Pratt, Mario (voice), Anya Taylor-Joy, P...   \n",
       "3  Óscar Barberán, Thut (voice), Ana Esther Albor...   \n",
       "4  Skeet Ulrich, Roy Cameron, Anne Heche, Dr Quin...   \n",
       "\n",
       "                    orig_title     status            orig_lang     budget_x  \\\n",
       "0                    Creed III   Released              English  75000000.00   \n",
       "1     Avatar: The Way of Water   Released              English 460000000.00   \n",
       "2  The Super Mario Bros. Movie   Released              English 100000000.00   \n",
       "3                       Momias   Released   Spanish, Castilian  12300000.00   \n",
       "4                    Supercell   Released              English  77000000.00   \n",
       "\n",
       "        revenue country  \n",
       "0  271616668.00      AU  \n",
       "1 2316794914.00      AU  \n",
       "2  724459031.00      AU  \n",
       "3   34200000.00      AU  \n",
       "4  340941958.60      US  "
      ]
     },
     "execution_count": 63,
     "metadata": {},
     "output_type": "execute_result"
    }
   ],
   "source": [
    "df.head()"
   ]
  },
  {
   "cell_type": "code",
   "execution_count": 64,
   "id": "aa3822d6",
   "metadata": {},
   "outputs": [
    {
     "name": "stdout",
     "output_type": "stream",
     "text": [
      "<class 'pandas.core.frame.DataFrame'>\n",
      "RangeIndex: 10178 entries, 0 to 10177\n",
      "Data columns (total 12 columns):\n",
      " #   Column      Non-Null Count  Dtype  \n",
      "---  ------      --------------  -----  \n",
      " 0   names       10178 non-null  object \n",
      " 1   date_x      10178 non-null  object \n",
      " 2   score       10178 non-null  float64\n",
      " 3   genre       10093 non-null  object \n",
      " 4   overview    10178 non-null  object \n",
      " 5   crew        10122 non-null  object \n",
      " 6   orig_title  10178 non-null  object \n",
      " 7   status      10178 non-null  object \n",
      " 8   orig_lang   10178 non-null  object \n",
      " 9   budget_x    10178 non-null  float64\n",
      " 10  revenue     10178 non-null  float64\n",
      " 11  country     10178 non-null  object \n",
      "dtypes: float64(3), object(9)\n",
      "memory usage: 954.3+ KB\n"
     ]
    }
   ],
   "source": [
    "df.info()"
   ]
  },
  {
   "cell_type": "code",
   "execution_count": 65,
   "id": "b906a710",
   "metadata": {},
   "outputs": [
    {
     "name": "stdout",
     "output_type": "stream",
     "text": [
      "Success\n",
      "0    7365\n",
      "1    2813\n",
      "Name: count, dtype: int64\n"
     ]
    }
   ],
   "source": [
    "df = df.dropna(subset=['score'])\n",
    "df['Success'] = (\n",
    "    (df['revenue'] > df['budget_x']) & (df['score'] >= 70.0)\n",
    ").astype(int)\n",
    "print(df['Success'].value_counts())"
   ]
  },
  {
   "cell_type": "code",
   "execution_count": 66,
   "id": "1a673669",
   "metadata": {},
   "outputs": [],
   "source": [
    "df = df.drop(columns=[\"revenue\"])"
   ]
  },
  {
   "cell_type": "code",
   "execution_count": 67,
   "id": "6fbca821",
   "metadata": {},
   "outputs": [],
   "source": [
    "for col in df.columns:\n",
    "    if df[col].dtype in [\"float64\", \"int64\"]:\n",
    "        df[col] = df[col].fillna(df[col].median())\n",
    "    else:\n",
    "        df[col] = df[col].fillna(\"Unknown\")"
   ]
  },
  {
   "cell_type": "code",
   "execution_count": 68,
   "id": "cd2e75a1",
   "metadata": {},
   "outputs": [],
   "source": [
    "df = df.drop(columns=[\"names\", \"orig_title\", \"status\", \"overview\"])\n",
    "df['date_x'] = pd.to_datetime(df['date_x'], errors='coerce')\n",
    "df['release_year'] = df['date_x'].dt.year\n",
    "df['release_decade'] = (df['release_year'] // 10) * 10\n",
    "df['release_month'] = df['date_x'].dt.month"
   ]
  },
  {
   "cell_type": "code",
   "execution_count": 69,
   "id": "ac7fc442",
   "metadata": {},
   "outputs": [],
   "source": [
    "# Season feature\n",
    "def get_season(month):\n",
    "    if month in [12,1,2]: return \"Winter\"\n",
    "    elif month in [3,4,5]: return \"Spring\"\n",
    "    elif month in [6,7,8]: return \"Summer\"\n",
    "    elif month in [9,10,11]: return \"Fall\"\n",
    "    else: return \"Unknown\"\n",
    "df['release_season'] = df['release_month'].apply(get_season)\n",
    "\n",
    "# Budget buckets\n",
    "df['budget_bucket'] = pd.cut(\n",
    "    df['budget_x'],\n",
    "    bins=[0, 1e6, 2e7, 1e8, np.inf],\n",
    "    labels=[\"Low\", \"Medium\", \"High\", \"Blockbuster\"]\n",
    ")"
   ]
  },
  {
   "cell_type": "code",
   "execution_count": 70,
   "id": "95dbf6ef",
   "metadata": {},
   "outputs": [],
   "source": [
    "# Simplify genres\n",
    "df['main_genre'] = df['genre'].str.split(',').str[0]\n",
    "top_genres = df['main_genre'].value_counts().nlargest(10).index\n",
    "df['main_genre'] = df['main_genre'].apply(lambda x: x if x in top_genres else \"Other\")\n"
   ]
  },
  {
   "cell_type": "code",
   "execution_count": 71,
   "id": "abcb85cf",
   "metadata": {},
   "outputs": [],
   "source": [
    "categorical_cols = ['orig_lang','country','budget_bucket','main_genre','release_season']\n",
    "df = pd.get_dummies(df, columns=categorical_cols, drop_first=True)"
   ]
  },
  {
   "cell_type": "code",
   "execution_count": 72,
   "id": "95aafc11",
   "metadata": {},
   "outputs": [
    {
     "name": "stdout",
     "output_type": "stream",
     "text": [
      "Final dataset ready\n",
      "X shape: (10178, 132)\n",
      "y distribution:\n",
      " Success\n",
      "0   0.72\n",
      "1   0.28\n",
      "Name: proportion, dtype: float64\n"
     ]
    }
   ],
   "source": [
    "X = df.drop(columns=[\"score\",\"Success\",\"crew\",\"date_x\",\"genre\"])\n",
    "y = df[\"Success\"]\n",
    "\n",
    "print(\"Final dataset ready\")\n",
    "print(\"X shape:\", X.shape)\n",
    "print(\"y distribution:\\n\", y.value_counts(normalize=True))"
   ]
  },
  {
   "cell_type": "code",
   "execution_count": 73,
   "id": "7553c109",
   "metadata": {},
   "outputs": [
    {
     "name": "stdout",
     "output_type": "stream",
     "text": [
      "\n",
      "Train size: (8142, 132) Test size: (2036, 132)\n"
     ]
    },
    {
     "data": {
      "application/vnd.jupyter.widget-view+json": {
       "model_id": "bc1e17d3a1324429b16a6b01b18893e2",
       "version_major": 2,
       "version_minor": 0
      },
      "text/plain": [
       "  0%|          | 0/32 [00:00<?, ?it/s]"
      ]
     },
     "metadata": {},
     "output_type": "display_data"
    },
    {
     "name": "stdout",
     "output_type": "stream",
     "text": [
      "{'Model': 'AdaBoostClassifier', 'Accuracy': 0.7362475442043221, 'Balanced Accuracy': 0.5324177407665992, 'ROC AUC': 0.5324177407665992, 'F1 Score': 0.6490055834155555, 'Time taken': 0.5674467086791992}\n",
      "{'Model': 'BaggingClassifier', 'Accuracy': 0.6832023575638507, 'Balanced Accuracy': 0.5473315414585089, 'ROC AUC': 0.5473315414585089, 'F1 Score': 0.6579230032254453, 'Time taken': 0.48789238929748535}\n",
      "{'Model': 'BernoulliNB', 'Accuracy': 0.7234774066797642, 'Balanced Accuracy': 0.5, 'ROC AUC': 0.5, 'F1 Score': 0.6073993844624067, 'Time taken': 0.04397082328796387}\n",
      "{'Model': 'CalibratedClassifierCV', 'Accuracy': 0.7254420432220039, 'Balanced Accuracy': 0.5035523978685613, 'ROC AUC': 0.5035523978685613, 'F1 Score': 0.6119941182746025, 'Time taken': 0.1608724594116211}\n",
      "{'Model': 'DecisionTreeClassifier', 'Accuracy': 0.638015717092338, 'Balanced Accuracy': 0.5440842205284222, 'ROC AUC': 0.5440842205284222, 'F1 Score': 0.6366968694174177, 'Time taken': 0.10130882263183594}\n",
      "{'Model': 'DummyClassifier', 'Accuracy': 0.7234774066797642, 'Balanced Accuracy': 0.5, 'ROC AUC': 0.5, 'F1 Score': 0.6073993844624067, 'Time taken': 0.037897348403930664}\n",
      "{'Model': 'ExtraTreeClassifier', 'Accuracy': 0.6424361493123772, 'Balanced Accuracy': 0.5400066803408662, 'ROC AUC': 0.5400066803408662, 'F1 Score': 0.6373417873943483, 'Time taken': 0.03195905685424805}\n",
      "{'Model': 'ExtraTreesClassifier', 'Accuracy': 0.668467583497053, 'Balanced Accuracy': 0.5486700213071521, 'ROC AUC': 0.5486700213071521, 'F1 Score': 0.6531492787484233, 'Time taken': 1.7866554260253906}\n",
      "{'Model': 'GaussianNB', 'Accuracy': 0.7077603143418467, 'Balanced Accuracy': 0.5390655240148607, 'ROC AUC': 0.5390655240148607, 'F1 Score': 0.6576053516840146, 'Time taken': 0.029494285583496094}\n",
      "{'Model': 'KNeighborsClassifier', 'Accuracy': 0.6743614931237721, 'Balanced Accuracy': 0.5225672525832058, 'ROC AUC': 0.5225672525832057, 'F1 Score': 0.6392731372549353, 'Time taken': 0.069976806640625}\n",
      "{'Model': 'LabelPropagation', 'Accuracy': 0.7234774066797642, 'Balanced Accuracy': 0.5246895269378113, 'ROC AUC': 0.5246895269378112, 'F1 Score': 0.6424556491004983, 'Time taken': 3.6204893589019775}\n",
      "{'Model': 'LabelSpreading', 'Accuracy': 0.7234774066797642, 'Balanced Accuracy': 0.5235922146294641, 'ROC AUC': 0.5235922146294641, 'F1 Score': 0.6411254608253701, 'Time taken': 4.7260212898254395}\n",
      "{'Model': 'LinearDiscriminantAnalysis', 'Accuracy': 0.7259332023575639, 'Balanced Accuracy': 0.5055378096440488, 'ROC AUC': 0.5055378096440488, 'F1 Score': 0.6149024727728067, 'Time taken': 0.07846546173095703}\n",
      "{'Model': 'LinearSVC', 'Accuracy': 0.724950884086444, 'Balanced Accuracy': 0.5026642984014209, 'ROC AUC': 0.5026642984014209, 'F1 Score': 0.6108504564399263, 'Time taken': 0.019849538803100586}\n",
      "{'Model': 'LogisticRegression', 'Accuracy': 0.7264243614931237, 'Balanced Accuracy': 0.5053285968028419, 'ROC AUC': 0.5053285968028419, 'F1 Score': 0.6142715082465215, 'Time taken': 0.05470108985900879}\n",
      "{'Model': 'NearestCentroid', 'Accuracy': 0.5771119842829077, 'Balanced Accuracy': 0.5305233697375735, 'ROC AUC': 0.5305233697375735, 'F1 Score': 0.5943663168400906, 'Time taken': 0.03167867660522461}\n",
      "{'Model': 'NuSVC', 'Accuracy': 0.5869351669941061, 'Balanced Accuracy': 0.49341974366302144, 'ROC AUC': 0.49341974366302144, 'F1 Score': 0.590678167573395, 'Time taken': 7.048949480056763}\n",
      "{'Model': 'PassiveAggressiveClassifier', 'Accuracy': 0.6817288801571709, 'Balanced Accuracy': 0.5079072807274577, 'ROC AUC': 0.5079072807274577, 'F1 Score': 0.6283646117030784, 'Time taken': 0.05683422088623047}\n",
      "{'Model': 'Perceptron', 'Accuracy': 0.611984282907662, 'Balanced Accuracy': 0.5326775987912683, 'ROC AUC': 0.5326775987912683, 'F1 Score': 0.6181100251228161, 'Time taken': 0.026213884353637695}\n",
      "{'Model': 'QuadraticDiscriminantAnalysis', 'Accuracy': 0.7337917485265226, 'Balanced Accuracy': 0.5466315526727996, 'ROC AUC': 0.5466315526727996, 'F1 Score': 0.665715300411731, 'Time taken': 0.041399240493774414}\n",
      "{'Model': 'RandomForestClassifier', 'Accuracy': 0.6925343811394892, 'Balanced Accuracy': 0.5537809644048769, 'ROC AUC': 0.5537809644048769, 'F1 Score': 0.6648835848932471, 'Time taken': 2.510768175125122}\n",
      "{'Model': 'RidgeClassifier', 'Accuracy': 0.724950884086444, 'Balanced Accuracy': 0.5026642984014209, 'ROC AUC': 0.5026642984014209, 'F1 Score': 0.6108504564399263, 'Time taken': 0.03577136993408203}\n",
      "{'Model': 'RidgeClassifierCV', 'Accuracy': 0.724950884086444, 'Balanced Accuracy': 0.5026642984014209, 'ROC AUC': 0.5026642984014209, 'F1 Score': 0.6108504564399263, 'Time taken': 0.058611154556274414}\n",
      "{'Model': 'SGDClassifier', 'Accuracy': 0.7234774066797642, 'Balanced Accuracy': 0.5, 'ROC AUC': 0.5, 'F1 Score': 0.6073993844624067, 'Time taken': 0.07446718215942383}\n",
      "{'Model': 'SVC', 'Accuracy': 0.7328094302554028, 'Balanced Accuracy': 0.5245550760340962, 'ROC AUC': 0.5245550760340962, 'F1 Score': 0.6397129086450426, 'Time taken': 7.082788944244385}\n",
      "{'Model': 'XGBClassifier', 'Accuracy': 0.7264243614931237, 'Balanced Accuracy': 0.5492210891367287, 'ROC AUC': 0.5492210891367287, 'F1 Score': 0.6681765502146341, 'Time taken': 0.36512184143066406}\n",
      "[LightGBM] [Info] Number of positive: 2250, number of negative: 5892\n",
      "[LightGBM] [Info] Auto-choosing col-wise multi-threading, the overhead of testing was 0,000512 seconds.\n",
      "You can set `force_col_wise=true` to remove the overhead.\n",
      "[LightGBM] [Info] Total Bins 369\n",
      "[LightGBM] [Info] Number of data points in the train set: 8142, number of used features: 4\n",
      "[LightGBM] [Info] [binary:BoostFromScore]: pavg=0,276345 -> initscore=-0,962665\n",
      "[LightGBM] [Info] Start training from score -0,962665\n",
      "{'Model': 'LGBMClassifier', 'Accuracy': 0.7333005893909627, 'Balanced Accuracy': 0.5413542039722706, 'ROC AUC': 0.5413542039722705, 'F1 Score': 0.6601161578679694, 'Time taken': 0.20707440376281738}\n"
     ]
    }
   ],
   "source": [
    "X_train, X_test, y_train, y_test = train_test_split(\n",
    "    X, y, test_size=0.2, stratify=y, random_state=42\n",
    ")\n",
    "\n",
    "print(\"\\nTrain size:\", X_train.shape, \"Test size:\", X_test.shape)\n",
    "\n",
    "clf = LazyClassifier(verbose=1, ignore_warnings=True, custom_metric=None, random_state=42)\n",
    "models, predictions = clf.fit(X_train, X_test, y_train, y_test)"
   ]
  },
  {
   "cell_type": "code",
   "execution_count": 74,
   "id": "3484f59f",
   "metadata": {},
   "outputs": [
    {
     "name": "stdout",
     "output_type": "stream",
     "text": [
      "LazyClassifier results:\n",
      "                               Accuracy  Balanced Accuracy  ROC AUC  F1 Score  \\\n",
      "Model                                                                           \n",
      "RandomForestClassifier             0.69               0.55     0.55      0.66   \n",
      "XGBClassifier                      0.73               0.55     0.55      0.67   \n",
      "ExtraTreesClassifier               0.67               0.55     0.55      0.65   \n",
      "BaggingClassifier                  0.68               0.55     0.55      0.66   \n",
      "QuadraticDiscriminantAnalysis      0.73               0.55     0.55      0.67   \n",
      "\n",
      "                               Time Taken  \n",
      "Model                                      \n",
      "RandomForestClassifier               2.51  \n",
      "XGBClassifier                        0.37  \n",
      "ExtraTreesClassifier                 1.79  \n",
      "BaggingClassifier                    0.49  \n",
      "QuadraticDiscriminantAnalysis        0.04  \n"
     ]
    }
   ],
   "source": [
    "print(\"LazyClassifier results:\")\n",
    "print(models.head(5))\n"
   ]
  },
  {
   "cell_type": "code",
   "execution_count": 86,
   "id": "70ca5fea",
   "metadata": {},
   "outputs": [
    {
     "name": "stdout",
     "output_type": "stream",
     "text": [
      "Classification Report:\n",
      "               precision    recall  f1-score   support\n",
      "\n",
      "           0       0.79      0.79      0.79      1473\n",
      "           1       0.46      0.47      0.46       563\n",
      "\n",
      "    accuracy                           0.70      2036\n",
      "   macro avg       0.63      0.63      0.63      2036\n",
      "weighted avg       0.70      0.70      0.70      2036\n",
      "\n",
      "Confusion Matrix:\n",
      " [[1161  312]\n",
      " [ 300  263]]\n",
      "ROC AUC: 0.7014683485690927\n"
     ]
    },
    {
     "data": {
      "image/png": "[encoded data removed]",
      "text/plain": [
       "<Figure size 640x480 with 1 Axes>"
      ]
     },
     "metadata": {},
     "output_type": "display_data"
    }
   ],
   "source": [
    "from xgboost import XGBClassifier\n",
    "from sklearn.metrics import classification_report, confusion_matrix, roc_auc_score, RocCurveDisplay\n",
    "import matplotlib.pyplot as plt\n",
    "\n",
    "scale_pos_weight = len(y_train[y_train==0]) / len(y_train[y_train==1])\n",
    "xgb = XGBClassifier(\n",
    "    n_estimators=500,\n",
    "    learning_rate=0.1,\n",
    "    max_depth=10,\n",
    "    random_state=42,\n",
    "    use_label_encoder=False,\n",
    "    eval_metric=\"logloss\",\n",
    "    scale_pos_weight=scale_pos_weight\n",
    ")\n",
    "\n",
    "xgb.fit(X_train, y_train)\n",
    "\n",
    "# Predict\n",
    "y_pred = xgb.predict(X_test)\n",
    "\n",
    "# Evaluation\n",
    "print(\"Classification Report:\\n\", classification_report(y_test, y_pred))\n",
    "print(\"Confusion Matrix:\\n\", confusion_matrix(y_test, y_pred))\n",
    "print(\"ROC AUC:\", roc_auc_score(y_test, xgb.predict_proba(X_test)[:,1]))\n",
    "\n",
    "# ROC Curve\n",
    "RocCurveDisplay.from_estimator(xgb, X_test, y_test)\n",
    "plt.show()\n"
   ]
  },
  {
   "cell_type": "code",
   "execution_count": 79,
   "id": "5d57710b",
   "metadata": {},
   "outputs": [
    {
     "data": {
      "image/png": "[encoded data removed]",
      "text/plain": [
       "<Figure size 800x600 with 1 Axes>"
      ]
     },
     "metadata": {},
     "output_type": "display_data"
    }
   ],
   "source": [
    "importances = xgb.feature_importances_\n",
    "feat_names = X.columns\n",
    "feat_imp = pd.Series(importances, index=feat_names).sort_values(ascending=False)[:20]\n",
    "\n",
    "feat_imp.plot(kind=\"barh\", figsize=(8,6))\n",
    "plt.title(\"Top 20 Feature Importances (XGBoost)\")\n",
    "plt.show()\n"
   ]
  },
  {
   "cell_type": "code",
   "execution_count": null,
   "id": "b77f5218",
   "metadata": {},
   "outputs": [],
   "source": []
  }
 ],
 "metadata": {
  "kernelspec": {
   "display_name": "base",
   "language": "python",
   "name": "python3"
  },
  "language_info": {
   "codemirror_mode": {
    "name": "ipython",
    "version": 3
   },
   "file_extension": ".py",
   "mimetype": "text/x-python",
   "name": "python",
   "nbconvert_exporter": "python",
   "pygments_lexer": "ipython3",
   "version": "3.12.3"
  }
 },
 "nbformat": 4,
 "nbformat_minor": 5
}
