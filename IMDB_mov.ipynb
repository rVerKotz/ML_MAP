{
 "cells": [
  {
   "cell_type": "code",
   "execution_count": 42,
   "id": "2b9c73b8",
   "metadata": {},
   "outputs": [],
   "source": [
    "import pandas as pd\n",
    "import numpy as np\n",
    "import matplotlib.pyplot as plt\n",
    "from sklearn.model_selection import train_test_split\n",
    "from sklearn.preprocessing import OneHotEncoder, StandardScaler\n",
    "from sklearn.compose import ColumnTransformer\n",
    "from sklearn.pipeline import Pipeline\n",
    "from sklearn.metrics import classification_report, confusion_matrix\n",
    "from lazypredict.Supervised import LazyClassifier\n"
   ]
  },
  {
   "cell_type": "code",
   "execution_count": 43,
   "id": "a1afb4c5",
   "metadata": {},
   "outputs": [
    {
     "name": "stdout",
     "output_type": "stream",
     "text": [
      "(10178, 12)\n"
     ]
    }
   ],
   "source": [
    "df = pd.read_csv(\"dataset/imdb_movies.csv\")\n",
    "print(df.shape)"
   ]
  },
  {
   "cell_type": "code",
   "execution_count": 44,
   "id": "573ec982",
   "metadata": {},
   "outputs": [
    {
     "data": {
      "application/vnd.microsoft.datawrangler.viewer.v0+json": {
       "columns": [
        {
         "name": "index",
         "rawType": "int64",
         "type": "integer"
        },
        {
         "name": "names",
         "rawType": "object",
         "type": "string"
        },
        {
         "name": "date_x",
         "rawType": "object",
         "type": "string"
        },
        {
         "name": "score",
         "rawType": "float64",
         "type": "float"
        },
        {
         "name": "genre",
         "rawType": "object",
         "type": "string"
        },
        {
         "name": "overview",
         "rawType": "object",
         "type": "string"
        },
        {
         "name": "crew",
         "rawType": "object",
         "type": "string"
        },
        {
         "name": "orig_title",
         "rawType": "object",
         "type": "string"
        },
        {
         "name": "status",
         "rawType": "object",
         "type": "string"
        },
        {
         "name": "orig_lang",
         "rawType": "object",
         "type": "string"
        },
        {
         "name": "budget_x",
         "rawType": "float64",
         "type": "float"
        },
        {
         "name": "revenue",
         "rawType": "float64",
         "type": "float"
        },
        {
         "name": "country",
         "rawType": "object",
         "type": "string"
        }
       ],
       "ref": "60b2b808-ee81-46fc-bb2d-ff358085b6b2",
       "rows": [
        [
         "0",
         "Creed III",
         "03/02/2023 ",
         "73.0",
         "Drama, Action",
         "After dominating the boxing world, Adonis Creed has been thriving in both his career and family life. When a childhood friend and former boxing prodigy, Damien Anderson, resurfaces after serving a long sentence in prison, he is eager to prove that he deserves his shot in the ring. The face-off between former friends is more than just a fight. To settle the score, Adonis must put his future on the line to battle Damien — a fighter who has nothing to lose.",
         "Michael B. Jordan, Adonis Creed, Tessa Thompson, Bianca Taylor, Jonathan Majors, Damien Anderson, Wood Harris, Tony 'Little Duke' Evers, Phylicia Rashād, Mary Anne Creed, Mila Davis-Kent, Amara Creed, Florian Munteanu, Viktor Drago, José Benavidez Jr., Felix Chavez, Selenis Leyva, Laura Chavez",
         "Creed III",
         " Released",
         " English",
         "75000000.0",
         "271616668.0",
         "AU"
        ],
        [
         "1",
         "Avatar: The Way of Water",
         "12/15/2022 ",
         "78.0",
         "Science Fiction, Adventure, Action",
         "Set more than a decade after the events of the first film, learn the story of the Sully family (Jake, Neytiri, and their kids), the trouble that follows them, the lengths they go to keep each other safe, the battles they fight to stay alive, and the tragedies they endure.",
         "Sam Worthington, Jake Sully, Zoe Saldaña, Neytiri, Sigourney Weaver, Kiri / Dr. Grace Augustine, Stephen Lang, Colonel Miles Quaritch, Kate Winslet, Ronal, Cliff Curtis, Tonowari, Joel David Moore, Norm Spellman, CCH Pounder, Mo'at, Edie Falco, General Frances Ardmore",
         "Avatar: The Way of Water",
         " Released",
         " English",
         "460000000.0",
         "2316794914.0",
         "AU"
        ],
        [
         "2",
         "The Super Mario Bros. Movie",
         "04/05/2023 ",
         "76.0",
         "Animation, Adventure, Family, Fantasy, Comedy",
         "While working underground to fix a water main, Brooklyn plumbers—and brothers—Mario and Luigi are transported down a mysterious pipe and wander into a magical new world. But when the brothers are separated, Mario embarks on an epic quest to find Luigi.",
         "Chris Pratt, Mario (voice), Anya Taylor-Joy, Princess Peach (voice), Charlie Day, Luigi (voice), Jack Black, Bowser (voice), Keegan-Michael Key, Toad (voice), Seth Rogen, Donkey Kong (voice), Fred Armisen, Cranky Kong (voice), Kevin Michael Richardson, Kamek (voice), Sebastian Maniscalco, Spike (voice)",
         "The Super Mario Bros. Movie",
         " Released",
         " English",
         "100000000.0",
         "724459031.0",
         "AU"
        ],
        [
         "3",
         "Mummies",
         "01/05/2023 ",
         "70.0",
         "Animation, Comedy, Family, Adventure, Fantasy",
         "Through a series of unfortunate events, three mummies end up in present-day London and embark on a wacky and hilarious journey in search of an old ring belonging to the Royal Family, stolen by ambitious archaeologist Lord Carnaby.",
         "Óscar Barberán, Thut (voice), Ana Esther Alborg, Nefer (voice), Luis Pérez Reina, Carnaby (voice), María Luisa Solá, Madre (voice), Jaume Solà, Sekhem (voice), José Luis Mediavilla, Ed (voice), José Javier Serrano Rodríguez, Danny (voice), Aleix Estadella, Dennis (voice), María Moscardó, Usi (voice)",
         " Momias",
         " Released",
         " Spanish, Castilian",
         "12300000.0",
         "34200000.0",
         "AU"
        ],
        [
         "4",
         "Supercell",
         "03/17/2023 ",
         "61.0",
         "Action",
         "Good-hearted teenager William always lived in hope of following in his late father’s footsteps and becoming a storm chaser. His father’s legacy has now been turned into a storm-chasing tourist business, managed by the greedy and reckless Zane Rogers, who is now using William as the main attraction to lead a group of unsuspecting adventurers deep into the eye of the most dangerous supercell ever seen.",
         "Skeet Ulrich, Roy Cameron, Anne Heche, Dr Quinn Brody, Daniel Diemer, William Brody, Jordan Kristine Seamón, Harper Hunter, Alec Baldwin, Zane Rogers, Richard Gunn, Bill Brody, Praya Lundberg, Amy, Johnny Wactor, Martin, Anjul Nigam, Ramesh",
         "Supercell",
         " Released",
         " English",
         "77000000.0",
         "340941958.6",
         "US"
        ]
       ],
       "shape": {
        "columns": 12,
        "rows": 5
       }
      },
      "text/html": [
       "<div>\n",
       "<style scoped>\n",
       "    .dataframe tbody tr th:only-of-type {\n",
       "        vertical-align: middle;\n",
       "    }\n",
       "\n",
       "    .dataframe tbody tr th {\n",
       "        vertical-align: top;\n",
       "    }\n",
       "\n",
       "    .dataframe thead th {\n",
       "        text-align: right;\n",
       "    }\n",
       "</style>\n",
       "<table border=\"1\" class=\"dataframe\">\n",
       "  <thead>\n",
       "    <tr style=\"text-align: right;\">\n",
       "      <th></th>\n",
       "      <th>names</th>\n",
       "      <th>date_x</th>\n",
       "      <th>score</th>\n",
       "      <th>genre</th>\n",
       "      <th>overview</th>\n",
       "      <th>crew</th>\n",
       "      <th>orig_title</th>\n",
       "      <th>status</th>\n",
       "      <th>orig_lang</th>\n",
       "      <th>budget_x</th>\n",
       "      <th>revenue</th>\n",
       "      <th>country</th>\n",
       "    </tr>\n",
       "  </thead>\n",
       "  <tbody>\n",
       "    <tr>\n",
       "      <th>0</th>\n",
       "      <td>Creed III</td>\n",
       "      <td>03/02/2023</td>\n",
       "      <td>73.00</td>\n",
       "      <td>Drama, Action</td>\n",
       "      <td>After dominating the boxing world, Adonis Cree...</td>\n",
       "      <td>Michael B. Jordan, Adonis Creed, Tessa Thompso...</td>\n",
       "      <td>Creed III</td>\n",
       "      <td>Released</td>\n",
       "      <td>English</td>\n",
       "      <td>75000000.00</td>\n",
       "      <td>271616668.00</td>\n",
       "      <td>AU</td>\n",
       "    </tr>\n",
       "    <tr>\n",
       "      <th>1</th>\n",
       "      <td>Avatar: The Way of Water</td>\n",
       "      <td>12/15/2022</td>\n",
       "      <td>78.00</td>\n",
       "      <td>Science Fiction, Adventure, Action</td>\n",
       "      <td>Set more than a decade after the events of the...</td>\n",
       "      <td>Sam Worthington, Jake Sully, Zoe Saldaña, Neyt...</td>\n",
       "      <td>Avatar: The Way of Water</td>\n",
       "      <td>Released</td>\n",
       "      <td>English</td>\n",
       "      <td>460000000.00</td>\n",
       "      <td>2316794914.00</td>\n",
       "      <td>AU</td>\n",
       "    </tr>\n",
       "    <tr>\n",
       "      <th>2</th>\n",
       "      <td>The Super Mario Bros. Movie</td>\n",
       "      <td>04/05/2023</td>\n",
       "      <td>76.00</td>\n",
       "      <td>Animation, Adventure, Family, Fantasy, Comedy</td>\n",
       "      <td>While working underground to fix a water main,...</td>\n",
       "      <td>Chris Pratt, Mario (voice), Anya Taylor-Joy, P...</td>\n",
       "      <td>The Super Mario Bros. Movie</td>\n",
       "      <td>Released</td>\n",
       "      <td>English</td>\n",
       "      <td>100000000.00</td>\n",
       "      <td>724459031.00</td>\n",
       "      <td>AU</td>\n",
       "    </tr>\n",
       "    <tr>\n",
       "      <th>3</th>\n",
       "      <td>Mummies</td>\n",
       "      <td>01/05/2023</td>\n",
       "      <td>70.00</td>\n",
       "      <td>Animation, Comedy, Family, Adventure, Fantasy</td>\n",
       "      <td>Through a series of unfortunate events, three ...</td>\n",
       "      <td>Óscar Barberán, Thut (voice), Ana Esther Albor...</td>\n",
       "      <td>Momias</td>\n",
       "      <td>Released</td>\n",
       "      <td>Spanish, Castilian</td>\n",
       "      <td>12300000.00</td>\n",
       "      <td>34200000.00</td>\n",
       "      <td>AU</td>\n",
       "    </tr>\n",
       "    <tr>\n",
       "      <th>4</th>\n",
       "      <td>Supercell</td>\n",
       "      <td>03/17/2023</td>\n",
       "      <td>61.00</td>\n",
       "      <td>Action</td>\n",
       "      <td>Good-hearted teenager William always lived in ...</td>\n",
       "      <td>Skeet Ulrich, Roy Cameron, Anne Heche, Dr Quin...</td>\n",
       "      <td>Supercell</td>\n",
       "      <td>Released</td>\n",
       "      <td>English</td>\n",
       "      <td>77000000.00</td>\n",
       "      <td>340941958.60</td>\n",
       "      <td>US</td>\n",
       "    </tr>\n",
       "  </tbody>\n",
       "</table>\n",
       "</div>"
      ],
      "text/plain": [
       "                         names       date_x  score  \\\n",
       "0                    Creed III  03/02/2023   73.00   \n",
       "1     Avatar: The Way of Water  12/15/2022   78.00   \n",
       "2  The Super Mario Bros. Movie  04/05/2023   76.00   \n",
       "3                      Mummies  01/05/2023   70.00   \n",
       "4                    Supercell  03/17/2023   61.00   \n",
       "\n",
       "                                           genre  \\\n",
       "0                                  Drama, Action   \n",
       "1             Science Fiction, Adventure, Action   \n",
       "2  Animation, Adventure, Family, Fantasy, Comedy   \n",
       "3  Animation, Comedy, Family, Adventure, Fantasy   \n",
       "4                                         Action   \n",
       "\n",
       "                                            overview  \\\n",
       "0  After dominating the boxing world, Adonis Cree...   \n",
       "1  Set more than a decade after the events of the...   \n",
       "2  While working underground to fix a water main,...   \n",
       "3  Through a series of unfortunate events, three ...   \n",
       "4  Good-hearted teenager William always lived in ...   \n",
       "\n",
       "                                                crew  \\\n",
       "0  Michael B. Jordan, Adonis Creed, Tessa Thompso...   \n",
       "1  Sam Worthington, Jake Sully, Zoe Saldaña, Neyt...   \n",
       "2  Chris Pratt, Mario (voice), Anya Taylor-Joy, P...   \n",
       "3  Óscar Barberán, Thut (voice), Ana Esther Albor...   \n",
       "4  Skeet Ulrich, Roy Cameron, Anne Heche, Dr Quin...   \n",
       "\n",
       "                    orig_title     status            orig_lang     budget_x  \\\n",
       "0                    Creed III   Released              English  75000000.00   \n",
       "1     Avatar: The Way of Water   Released              English 460000000.00   \n",
       "2  The Super Mario Bros. Movie   Released              English 100000000.00   \n",
       "3                       Momias   Released   Spanish, Castilian  12300000.00   \n",
       "4                    Supercell   Released              English  77000000.00   \n",
       "\n",
       "        revenue country  \n",
       "0  271616668.00      AU  \n",
       "1 2316794914.00      AU  \n",
       "2  724459031.00      AU  \n",
       "3   34200000.00      AU  \n",
       "4  340941958.60      US  "
      ]
     },
     "execution_count": 44,
     "metadata": {},
     "output_type": "execute_result"
    }
   ],
   "source": [
    "df.head()"
   ]
  },
  {
   "cell_type": "code",
   "execution_count": 45,
   "id": "aa3822d6",
   "metadata": {},
   "outputs": [
    {
     "name": "stdout",
     "output_type": "stream",
     "text": [
      "<class 'pandas.core.frame.DataFrame'>\n",
      "RangeIndex: 10178 entries, 0 to 10177\n",
      "Data columns (total 12 columns):\n",
      " #   Column      Non-Null Count  Dtype  \n",
      "---  ------      --------------  -----  \n",
      " 0   names       10178 non-null  object \n",
      " 1   date_x      10178 non-null  object \n",
      " 2   score       10178 non-null  float64\n",
      " 3   genre       10093 non-null  object \n",
      " 4   overview    10178 non-null  object \n",
      " 5   crew        10122 non-null  object \n",
      " 6   orig_title  10178 non-null  object \n",
      " 7   status      10178 non-null  object \n",
      " 8   orig_lang   10178 non-null  object \n",
      " 9   budget_x    10178 non-null  float64\n",
      " 10  revenue     10178 non-null  float64\n",
      " 11  country     10178 non-null  object \n",
      "dtypes: float64(3), object(9)\n",
      "memory usage: 954.3+ KB\n"
     ]
    }
   ],
   "source": [
    "df.info()"
   ]
  },
  {
   "cell_type": "code",
   "execution_count": 46,
   "id": "b906a710",
   "metadata": {},
   "outputs": [
    {
     "name": "stdout",
     "output_type": "stream",
     "text": [
      "Success\n",
      "0    7365\n",
      "1    2813\n",
      "Name: count, dtype: int64\n"
     ]
    }
   ],
   "source": [
    "df = df.dropna(subset=['score'])\n",
    "df['Success'] = (\n",
    "    (df['revenue'] > df['budget_x']) & (df['score'] >= 70.0)\n",
    ").astype(int)\n",
    "print(df['Success'].value_counts())"
   ]
  },
  {
   "cell_type": "code",
   "execution_count": 47,
   "id": "1a673669",
   "metadata": {},
   "outputs": [],
   "source": [
    "df = df.drop(columns=[\"revenue\"])"
   ]
  },
  {
   "cell_type": "code",
   "execution_count": 48,
   "id": "6fbca821",
   "metadata": {},
   "outputs": [],
   "source": [
    "for col in df.columns:\n",
    "    if df[col].dtype in [\"float64\", \"int64\"]:\n",
    "        df[col] = df[col].fillna(df[col].median())\n",
    "    else:\n",
    "        df[col] = df[col].fillna(\"Unknown\")"
   ]
  },
  {
   "cell_type": "code",
   "execution_count": 49,
   "id": "cd2e75a1",
   "metadata": {},
   "outputs": [],
   "source": [
    "df = df.drop(columns=[\"names\", \"orig_title\", \"status\", \"overview\"])\n",
    "df['date_x'] = pd.to_datetime(df['date_x'], errors='coerce')\n",
    "df['release_year'] = df['date_x'].dt.year\n",
    "df['release_decade'] = (df['release_year'] // 10) * 10\n",
    "df['release_month'] = df['date_x'].dt.month"
   ]
  },
  {
   "cell_type": "code",
   "execution_count": 50,
   "id": "ac7fc442",
   "metadata": {},
   "outputs": [],
   "source": [
    "# Season feature\n",
    "def get_season(month):\n",
    "    if month in [12,1,2]: return \"Winter\"\n",
    "    elif month in [3,4,5]: return \"Spring\"\n",
    "    elif month in [6,7,8]: return \"Summer\"\n",
    "    elif month in [9,10,11]: return \"Fall\"\n",
    "    else: return \"Unknown\"\n",
    "df['release_season'] = df['release_month'].apply(get_season)\n",
    "\n",
    "# Budget buckets\n",
    "df['budget_bucket'] = pd.cut(\n",
    "    df['budget_x'],\n",
    "    bins=[0, 1e6, 2e7, 1e8, np.inf],\n",
    "    labels=[\"Low\", \"Medium\", \"High\", \"Blockbuster\"]\n",
    ")"
   ]
  },
  {
   "cell_type": "code",
   "execution_count": 51,
   "id": "95dbf6ef",
   "metadata": {},
   "outputs": [],
   "source": [
    "# Simplify genres\n",
    "df['main_genre'] = df['genre'].str.split(',').str[0]\n",
    "top_genres = df['main_genre'].value_counts().nlargest(10).index\n",
    "df['main_genre'] = df['main_genre'].apply(lambda x: x if x in top_genres else \"Other\")\n",
    "\n",
    "# Crew popularity\n",
    "df['main_crew'] = df['crew'].str.split(',').str[0]\n",
    "crew_avg = df.groupby(\"main_crew\")['score'].mean().to_dict()\n",
    "df['crew_popularity'] = df['main_crew'].map(crew_avg)"
   ]
  },
  {
   "cell_type": "code",
   "execution_count": 52,
   "id": "abcb85cf",
   "metadata": {},
   "outputs": [],
   "source": [
    "categorical_cols = ['orig_lang','country','budget_bucket','main_genre','release_season']\n",
    "df = pd.get_dummies(df, columns=categorical_cols, drop_first=True)"
   ]
  },
  {
   "cell_type": "code",
   "execution_count": 53,
   "id": "95aafc11",
   "metadata": {},
   "outputs": [
    {
     "name": "stdout",
     "output_type": "stream",
     "text": [
      "Final dataset ready\n",
      "X shape: (10178, 133)\n",
      "y distribution:\n",
      " Success\n",
      "0   0.72\n",
      "1   0.28\n",
      "Name: proportion, dtype: float64\n"
     ]
    }
   ],
   "source": [
    "X = df.drop(columns=[\"score\",\"Success\",\"crew\",\"date_x\",\"genre\",\"main_crew\"])\n",
    "y = df[\"Success\"]\n",
    "\n",
    "print(\"Final dataset ready\")\n",
    "print(\"X shape:\", X.shape)\n",
    "print(\"y distribution:\\n\", y.value_counts(normalize=True))"
   ]
  },
  {
   "cell_type": "code",
   "execution_count": 54,
   "id": "7553c109",
   "metadata": {},
   "outputs": [
    {
     "name": "stdout",
     "output_type": "stream",
     "text": [
      "\n",
      "Train size: (8142, 133) Test size: (2036, 133)\n"
     ]
    },
    {
     "data": {
      "application/vnd.jupyter.widget-view+json": {
       "model_id": "e8535b64a5be494b953bf144be3668fa",
       "version_major": 2,
       "version_minor": 0
      },
      "text/plain": [
       "  0%|          | 0/32 [00:00<?, ?it/s]"
      ]
     },
     "metadata": {},
     "output_type": "display_data"
    },
    {
     "name": "stdout",
     "output_type": "stream",
     "text": [
      "{'Model': 'AdaBoostClassifier', 'Accuracy': 0.8344793713163065, 'Balanced Accuracy': 0.7775223411580141, 'ROC AUC': 0.7775223411580141, 'F1 Score': 0.8316373952280304, 'Time taken': 0.546950101852417}\n",
      "{'Model': 'BaggingClassifier', 'Accuracy': 0.8256385068762279, 'Balanced Accuracy': 0.7527580522827111, 'ROC AUC': 0.752758052282711, 'F1 Score': 0.8195395674266427, 'Time taken': 0.472520112991333}\n",
      "{'Model': 'BernoulliNB', 'Accuracy': 0.724950884086444, 'Balanced Accuracy': 0.525159200722538, 'ROC AUC': 0.525159200722538, 'F1 Score': 0.6427041135413487, 'Time taken': 0.04979658126831055}\n",
      "{'Model': 'CalibratedClassifierCV', 'Accuracy': 0.8261296660117878, 'Balanced Accuracy': 0.7404784040496853, 'ROC AUC': 0.7404784040496855, 'F1 Score': 0.8166747020379487, 'Time taken': 0.16663599014282227}\n",
      "{'Model': 'DecisionTreeClassifier', 'Accuracy': 0.7814341846758349, 'Balanced Accuracy': 0.7271460595032673, 'ROC AUC': 0.7271460595032672, 'F1 Score': 0.7814940447024181, 'Time taken': 0.07975244522094727}\n",
      "{'Model': 'DummyClassifier', 'Accuracy': 0.7234774066797642, 'Balanced Accuracy': 0.5, 'ROC AUC': 0.5, 'F1 Score': 0.6073993844624067, 'Time taken': 0.0326838493347168}\n",
      "{'Model': 'ExtraTreeClassifier', 'Accuracy': 0.7509823182711198, 'Balanced Accuracy': 0.6836056717782126, 'ROC AUC': 0.6836056717782127, 'F1 Score': 0.7496431745725965, 'Time taken': 0.04565167427062988}\n",
      "{'Model': 'ExtraTreesClassifier', 'Accuracy': 0.8256385068762279, 'Balanced Accuracy': 0.7560499892077526, 'ROC AUC': 0.7560499892077526, 'F1 Score': 0.8203288658416914, 'Time taken': 1.5797955989837646}\n",
      "{'Model': 'GaussianNB', 'Accuracy': 0.7342829076620825, 'Balanced Accuracy': 0.5831823021612229, 'ROC AUC': 0.5831823021612229, 'F1 Score': 0.6966464598704295, 'Time taken': 0.03806304931640625}\n",
      "{'Model': 'KNeighborsClassifier', 'Accuracy': 0.8109037328094303, 'Balanced Accuracy': 0.7414774405853619, 'ROC AUC': 0.7414774405853619, 'F1 Score': 0.8061051508402457, 'Time taken': 0.0772395133972168}\n",
      "{'Model': 'LabelPropagation', 'Accuracy': 0.8148330058939096, 'Balanced Accuracy': 0.7348658324681447, 'ROC AUC': 0.7348658324681447, 'F1 Score': 0.8071898769217106, 'Time taken': 3.476917266845703}\n",
      "{'Model': 'LabelSpreading', 'Accuracy': 0.8177799607072691, 'Balanced Accuracy': 0.7347078677292509, 'ROC AUC': 0.7347078677292509, 'F1 Score': 0.809207735573611, 'Time taken': 4.962864637374878}\n",
      "{'Model': 'LinearDiscriminantAnalysis', 'Accuracy': 0.7838899803536346, 'Balanced Accuracy': 0.6240499506209461, 'ROC AUC': 0.6240499506209461, 'F1 Score': 0.7400439281537498, 'Time taken': 0.04813385009765625}\n",
      "{'Model': 'LinearSVC', 'Accuracy': 0.8236738703339882, 'Balanced Accuracy': 0.7327459697889422, 'ROC AUC': 0.7327459697889421, 'F1 Score': 0.8127242690443565, 'Time taken': 0.042818307876586914}\n",
      "{'Model': 'LogisticRegression', 'Accuracy': 0.8256385068762279, 'Balanced Accuracy': 0.7390416484283715, 'ROC AUC': 0.7390416484283715, 'F1 Score': 0.8159242608449392, 'Time taken': 0.07990789413452148}\n",
      "{'Model': 'NearestCentroid', 'Accuracy': 0.7274066797642437, 'Balanced Accuracy': 0.7435755981859378, 'ROC AUC': 0.7435755981859378, 'F1 Score': 0.7407506577389844, 'Time taken': 0.048772573471069336}\n",
      "{'Model': 'NuSVC', 'Accuracy': 0.8197445972495089, 'Balanced Accuracy': 0.7064382086557441, 'ROC AUC': 0.7064382086557441, 'F1 Score': 0.8011793551165557, 'Time taken': 3.8059756755828857}\n",
      "{'Model': 'PassiveAggressiveClassifier', 'Accuracy': 0.7966601178781926, 'Balanced Accuracy': 0.6976169029505642, 'ROC AUC': 0.6976169029505642, 'F1 Score': 0.7835559769060648, 'Time taken': 0.04723048210144043}\n",
      "{'Model': 'Perceptron', 'Accuracy': 0.7455795677799607, 'Balanced Accuracy': 0.605254558367971, 'ROC AUC': 0.605254558367971, 'F1 Score': 0.7145180800686652, 'Time taken': 0.0383455753326416}\n",
      "{'Model': 'QuadraticDiscriminantAnalysis', 'Accuracy': 0.7843811394891945, 'Balanced Accuracy': 0.6759630724262299, 'ROC AUC': 0.6759630724262299, 'F1 Score': 0.7680592292482887, 'Time taken': 0.027195453643798828}\n",
      "{'Model': 'RandomForestClassifier', 'Accuracy': 0.8388998035363457, 'Balanced Accuracy': 0.7690555517370694, 'ROC AUC': 0.7690555517370694, 'F1 Score': 0.8332027435435251, 'Time taken': 2.282339334487915}\n",
      "{'Model': 'RidgeClassifier', 'Accuracy': 0.7701375245579568, 'Balanced Accuracy': 0.5931479478451077, 'ROC AUC': 0.5931479478451077, 'F1 Score': 0.7123309900110307, 'Time taken': 0.035181283950805664}\n",
      "{'Model': 'RidgeClassifierCV', 'Accuracy': 0.7701375245579568, 'Balanced Accuracy': 0.5931479478451077, 'ROC AUC': 0.5931479478451077, 'F1 Score': 0.7123309900110307, 'Time taken': 0.045401811599731445}\n",
      "{'Model': 'SGDClassifier', 'Accuracy': 0.824656188605108, 'Balanced Accuracy': 0.7663442256652908, 'ROC AUC': 0.7663442256652907, 'F1 Score': 0.8218750898450107, 'Time taken': 0.05950307846069336}\n",
      "{'Model': 'SVC', 'Accuracy': 0.8285854616895875, 'Balanced Accuracy': 0.7317511536852209, 'ROC AUC': 0.7317511536852208, 'F1 Score': 0.8157827665140538, 'Time taken': 2.6451339721679688}\n",
      "{'Model': 'XGBClassifier', 'Accuracy': 0.8256385068762279, 'Balanced Accuracy': 0.7511120838201903, 'ROC AUC': 0.7511120838201902, 'F1 Score': 0.8191339796744038, 'Time taken': 0.21287941932678223}\n",
      "[LightGBM] [Info] Number of positive: 2250, number of negative: 5892\n",
      "[LightGBM] [Info] Auto-choosing col-wise multi-threading, the overhead of testing was 0,000271 seconds.\n",
      "You can set `force_col_wise=true` to remove the overhead.\n",
      "[LightGBM] [Info] Total Bins 620\n",
      "[LightGBM] [Info] Number of data points in the train set: 8142, number of used features: 5\n",
      "[LightGBM] [Info] [binary:BoostFromScore]: pavg=0,276345 -> initscore=-0,962665\n",
      "[LightGBM] [Info] Start training from score -0,962665\n",
      "{'Model': 'LGBMClassifier', 'Accuracy': 0.8408644400785854, 'Balanced Accuracy': 0.7693160126805894, 'ROC AUC': 0.7693160126805894, 'F1 Score': 0.8347402871598283, 'Time taken': 0.20358824729919434}\n"
     ]
    }
   ],
   "source": [
    "X_train, X_test, y_train, y_test = train_test_split(\n",
    "    X, y, test_size=0.2, stratify=y, random_state=42\n",
    ")\n",
    "\n",
    "print(\"\\nTrain size:\", X_train.shape, \"Test size:\", X_test.shape)\n",
    "\n",
    "clf = LazyClassifier(verbose=1, ignore_warnings=True, custom_metric=None, random_state=42)\n",
    "models, predictions = clf.fit(X_train, X_test, y_train, y_test)"
   ]
  },
  {
   "cell_type": "code",
   "execution_count": 55,
   "id": "3484f59f",
   "metadata": {},
   "outputs": [
    {
     "name": "stdout",
     "output_type": "stream",
     "text": [
      "LazyClassifier results:\n",
      "                        Accuracy  Balanced Accuracy  ROC AUC  F1 Score  \\\n",
      "Model                                                                    \n",
      "AdaBoostClassifier          0.83               0.78     0.78      0.83   \n",
      "LGBMClassifier              0.84               0.77     0.77      0.83   \n",
      "RandomForestClassifier      0.84               0.77     0.77      0.83   \n",
      "SGDClassifier               0.82               0.77     0.77      0.82   \n",
      "ExtraTreesClassifier        0.83               0.76     0.76      0.82   \n",
      "\n",
      "                        Time Taken  \n",
      "Model                               \n",
      "AdaBoostClassifier            0.55  \n",
      "LGBMClassifier                0.20  \n",
      "RandomForestClassifier        2.28  \n",
      "SGDClassifier                 0.06  \n",
      "ExtraTreesClassifier          1.58  \n"
     ]
    }
   ],
   "source": [
    "print(\"LazyClassifier results:\")\n",
    "print(models.head(5))\n"
   ]
  },
  {
   "cell_type": "code",
   "execution_count": 56,
   "id": "9cd70b34",
   "metadata": {},
   "outputs": [
    {
     "name": "stdout",
     "output_type": "stream",
     "text": [
      "Classification Report:\n",
      "               precision    recall  f1-score   support\n",
      "\n",
      "           0       0.87      0.91      0.89      1473\n",
      "           1       0.73      0.65      0.68       563\n",
      "\n",
      "    accuracy                           0.83      2036\n",
      "   macro avg       0.80      0.78      0.79      2036\n",
      "weighted avg       0.83      0.83      0.83      2036\n",
      "\n",
      "Confusion Matrix:\n",
      " [[1336  137]\n",
      " [ 199  364]]\n",
      "ROC AUC: 0.8636101092609542\n"
     ]
    },
    {
     "data": {
      "image/png": "[encoded data removed]",
      "text/plain": [
       "<Figure size 640x480 with 1 Axes>"
      ]
     },
     "metadata": {},
     "output_type": "display_data"
    }
   ],
   "source": [
    "from sklearn.ensemble import AdaBoostClassifier\n",
    "from sklearn.metrics import classification_report, confusion_matrix, roc_auc_score, RocCurveDisplay\n",
    "import matplotlib.pyplot as plt\n",
    "\n",
    "# Train\n",
    "ada = AdaBoostClassifier(n_estimators=200, random_state=42)\n",
    "ada.fit(X_train, y_train)\n",
    "\n",
    "# Predict\n",
    "y_pred = ada.predict(X_test)\n",
    "\n",
    "# Evaluation\n",
    "print(\"Classification Report:\\n\", classification_report(y_test, y_pred))\n",
    "print(\"Confusion Matrix:\\n\", confusion_matrix(y_test, y_pred))\n",
    "print(\"ROC AUC:\", roc_auc_score(y_test, ada.predict_proba(X_test)[:,1]))\n",
    "\n",
    "# ROC Curve\n",
    "RocCurveDisplay.from_estimator(ada, X_test, y_test)\n",
    "plt.show()\n"
   ]
  },
  {
   "cell_type": "code",
   "execution_count": 58,
   "id": "5d57710b",
   "metadata": {},
   "outputs": [
    {
     "data": {
      "image/png": "[encoded data removed]",
      "text/plain": [
       "<Figure size 800x600 with 1 Axes>"
      ]
     },
     "metadata": {},
     "output_type": "display_data"
    }
   ],
   "source": [
    "importances = ada.feature_importances_\n",
    "feat_names = X.columns\n",
    "feat_imp = pd.Series(importances, index=feat_names).sort_values(ascending=False)[:20]\n",
    "\n",
    "feat_imp.plot(kind=\"barh\", figsize=(8,6))\n",
    "plt.title(\"Top 20 Feature Importances (AdaBoost)\")\n",
    "plt.show()\n"
   ]
  },
  {
   "cell_type": "code",
   "execution_count": null,
   "id": "b77f5218",
   "metadata": {},
   "outputs": [],
   "source": []
  }
 ],
 "metadata": {
  "kernelspec": {
   "display_name": "base",
   "language": "python",
   "name": "python3"
  },
  "language_info": {
   "codemirror_mode": {
    "name": "ipython",
    "version": 3
   },
   "file_extension": ".py",
   "mimetype": "text/x-python",
   "name": "python",
   "nbconvert_exporter": "python",
   "pygments_lexer": "ipython3",
   "version": "3.12.3"
  }
 },
 "nbformat": 4,
 "nbformat_minor": 5
}
